{
 "cells": [
  {
   "cell_type": "code",
   "execution_count": 3,
   "metadata": {},
   "outputs": [
    {
     "name": "stdout",
     "output_type": "stream",
     "text": [
      "Subset created and saved as 'subset.csv'\n"
     ]
    }
   ],
   "source": [
    "import pandas as pd\n",
    "\n",
    "# Load the dataset\n",
    "df = pd.read_csv('data/transformed_data.csv')\n",
    "\n",
    "# Keep only the specified columns\n",
    "subset_df = df[['Mileage', 'Age', 'Engine_Size', 'Price', \"Fuel_Type_Electric\", \"Transmission_Automatic\", \"Fuel_Type_Petrol\", \"Fuel_Type_Diesel\", \"Transmission_Semi-Automatic\", \"Transmission_Manual\"]]\n",
    "\n",
    "# Save the subset to a new CSV file\n",
    "subset_df.to_csv('data/subset.csv', index=False)\n",
    "\n",
    "print(\"Subset created and saved as 'subset.csv'\")\n"
   ]
  }
 ],
 "metadata": {
  "kernelspec": {
   "display_name": "env",
   "language": "python",
   "name": "python3"
  },
  "language_info": {
   "codemirror_mode": {
    "name": "ipython",
    "version": 3
   },
   "file_extension": ".py",
   "mimetype": "text/x-python",
   "name": "python",
   "nbconvert_exporter": "python",
   "pygments_lexer": "ipython3",
   "version": "3.13.1"
  }
 },
 "nbformat": 4,
 "nbformat_minor": 2
}
